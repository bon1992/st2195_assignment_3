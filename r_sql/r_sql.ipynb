{
 "cells": [
  {
   "cell_type": "code",
   "execution_count": 1,
   "id": "5f74d80c-9d1c-4e9f-ae29-3214eca6d1e5",
   "metadata": {},
   "outputs": [
    {
     "name": "stderr",
     "output_type": "stream",
     "text": [
      "\n",
      "Attaching package: 'dplyr'\n",
      "\n",
      "\n",
      "The following objects are masked from 'package:stats':\n",
      "\n",
      "    filter, lag\n",
      "\n",
      "\n",
      "The following objects are masked from 'package:base':\n",
      "\n",
      "    intersect, setdiff, setequal, union\n",
      "\n",
      "\n"
     ]
    }
   ],
   "source": [
    "library(DBI)\n",
    "library(dplyr)"
   ]
  },
  {
   "cell_type": "code",
   "execution_count": 6,
   "id": "86abcd8d-9447-4d44-be8d-b751e1898a0e",
   "metadata": {},
   "outputs": [
    {
     "name": "stderr",
     "output_type": "stream",
     "text": [
      "also installing the dependency 'plogr'\n",
      "\n",
      "\n"
     ]
    },
    {
     "name": "stdout",
     "output_type": "stream",
     "text": [
      "package 'plogr' successfully unpacked and MD5 sums checked\n",
      "package 'RSQLite' successfully unpacked and MD5 sums checked\n",
      "\n",
      "The downloaded binary packages are in\n",
      "\tC:\\Users\\piorizzielloa\\AppData\\Local\\Temp\\2\\RtmpGQDaMb\\downloaded_packages\n"
     ]
    },
    {
     "name": "stderr",
     "output_type": "stream",
     "text": [
      "Warning message:\n",
      "\"package 'RSQLite' was built under R version 4.2.3\"\n"
     ]
    }
   ],
   "source": [
    "install.packages(\"RSQLite\")\n",
    "library(RSQLite)"
   ]
  },
  {
   "cell_type": "code",
   "execution_count": 3,
   "id": "9b4b5b85-94c6-49cc-a3eb-243ef1142a57",
   "metadata": {},
   "outputs": [
    {
     "data": {
      "text/html": [
       "'C:/Users/piorizzielloa/Documents/Data Science'"
      ],
      "text/latex": [
       "'C:/Users/piorizzielloa/Documents/Data Science'"
      ],
      "text/markdown": [
       "'C:/Users/piorizzielloa/Documents/Data Science'"
      ],
      "text/plain": [
       "[1] \"C:/Users/piorizzielloa/Documents/Data Science\""
      ]
     },
     "metadata": {},
     "output_type": "display_data"
    }
   ],
   "source": [
    "getwd()"
   ]
  },
  {
   "cell_type": "code",
   "execution_count": 7,
   "id": "4e640fa7-0424-4775-884a-c7abfdd1a8f0",
   "metadata": {},
   "outputs": [],
   "source": [
    "# part 2\n",
    "# ======== create the database ========\n",
    "if (file.exists(\"airline2.db\")) \n",
    "  file.remove(\"airline2.db\")\n",
    "conn <- dbConnect(RSQLite::SQLite(), \"airline2.db\")"
   ]
  },
  {
   "cell_type": "code",
   "execution_count": 9,
   "id": "73d4b4c0-a4da-4052-bbd1-8de0c2146624",
   "metadata": {},
   "outputs": [],
   "source": [
    "# ======== write to the database ========\n",
    "# load in the data from the csv files\n",
    "airports <- read.csv(\"airports.csv\", header = TRUE)\n",
    "carriers <- read.csv(\"carriers.csv\", header = TRUE)\n",
    "planes <- read.csv(\"plane-data.csv\", header = TRUE)\n",
    "dbWriteTable(conn, \"airports\", airports)\n",
    "dbWriteTable(conn, \"carriers\", carriers)\n",
    "dbWriteTable(conn, \"planes\", planes)\n",
    "\n",
    "for(i in c(2006:2008)) {\n",
    "  ontime <- read.csv(paste0(i, \".csv\"), header = TRUE)\n",
    "  if(i == 2006) {\n",
    "    dbWriteTable(conn, \"ontime\", ontime)\n",
    "  } else {\n",
    "    dbWriteTable(conn, \"ontime\", ontime, append = TRUE)\n",
    "  }\n",
    "}"
   ]
  },
  {
   "cell_type": "code",
   "execution_count": 10,
   "id": "945aaae5-5cb2-4e3c-ba9b-662b9ffad747",
   "metadata": {},
   "outputs": [
    {
     "name": "stdout",
     "output_type": "stream",
     "text": [
      "[1] \"737-230 has the lowest associated average departure delay.\"\n"
     ]
    }
   ],
   "source": [
    "# ======== queries via DBI ========\n",
    "q1 <- dbGetQuery(conn, \n",
    "                 \"SELECT model AS model, AVG(ontime.DepDelay) AS avg_delay\n",
    "FROM planes JOIN ontime USING(tailnum)\n",
    "WHERE ontime.Cancelled = 0 AND ontime.Diverted = 0 AND ontime.DepDelay > 0\n",
    "GROUP BY model\n",
    "ORDER BY avg_delay\")\n",
    "print(paste(q1[1, \"model\"], \"has the lowest associated average departure delay.\"))"
   ]
  },
  {
   "cell_type": "code",
   "execution_count": 11,
   "id": "03ddb6b6-8458-4388-85ed-6f37155436fc",
   "metadata": {},
   "outputs": [
    {
     "name": "stdout",
     "output_type": "stream",
     "text": [
      "[1] \"Chicago has the highest number of inbound flights (excluding cancelled flights)\"\n"
     ]
    }
   ],
   "source": [
    "q2 <- dbGetQuery(conn, \n",
    "                 \"SELECT airports.city AS city, COUNT(*) AS total\n",
    "FROM airports JOIN ontime ON ontime.dest = airports.iata\n",
    "WHERE ontime.Cancelled = 0\n",
    "GROUP BY airports.city\n",
    "ORDER BY total DESC\")\n",
    "print(paste(q2[1, \"city\"], \"has the highest number of inbound flights (excluding cancelled flights)\"))"
   ]
  },
  {
   "cell_type": "code",
   "execution_count": 12,
   "id": "84288d2a-5302-4720-9773-700cfd22e23f",
   "metadata": {},
   "outputs": [
    {
     "name": "stdout",
     "output_type": "stream",
     "text": [
      "[1] \"American Airlines Inc. has the highest number of cancelled flights\"\n"
     ]
    }
   ],
   "source": [
    "q3 <- dbGetQuery(conn, \n",
    "                 \"SELECT carriers.Description AS carrier, COUNT(*) AS total\n",
    "FROM carriers JOIN ontime ON ontime.UniqueCarrier = carriers.Code\n",
    "WHERE ontime.Cancelled = 1\n",
    "AND carriers.Description IN ('United Air Lines Inc.', 'American Airlines Inc.', 'Pinnacle Airlines Inc.', 'Delta Air Lines Inc.')\n",
    "GROUP BY carriers.Description\n",
    "ORDER BY total DESC\")\n",
    "\n",
    "print(paste(q3[1, \"carrier\"], \"has the highest number of cancelled flights\"))"
   ]
  },
  {
   "cell_type": "code",
   "execution_count": 13,
   "id": "e943a74a-7c3e-41d6-bc12-d5a26678a2a9",
   "metadata": {},
   "outputs": [
    {
     "name": "stdout",
     "output_type": "stream",
     "text": [
      "[1] \"Pinnacle Airlines Inc. highest number of cancelled flights, relative to their number of total flights\"\n"
     ]
    }
   ],
   "source": [
    "#The CAST() function converts a value (of any type) into a specified datatype\n",
    "q4 <- dbGetQuery(conn, \n",
    "                 \"SELECT \n",
    "q1.carrier AS carrier, (CAST(q1.numerator AS FLOAT)/ CAST(q2.denominator AS FLOAT)) AS ratio\n",
    "FROM\n",
    "(\n",
    "  SELECT carriers.Description AS carrier, COUNT(*) AS numerator\n",
    "  FROM carriers JOIN ontime ON ontime.UniqueCarrier = carriers.Code\n",
    "  WHERE ontime.Cancelled = 1 AND carriers.Description IN ('United Air Lines Inc.', 'American Airlines Inc.', 'Pinnacle Airlines Inc.', 'Delta Air Lines Inc.')\n",
    "  GROUP BY carriers.Description\n",
    ") AS q1 JOIN \n",
    "(\n",
    "  SELECT carriers.Description AS carrier, COUNT(*) AS denominator\n",
    "  FROM carriers JOIN ontime ON ontime.UniqueCarrier = carriers.Code\n",
    "  WHERE carriers.Description IN ('United Air Lines Inc.', 'American Airlines Inc.', 'Pinnacle Airlines Inc.', 'Delta Air Lines Inc.')\n",
    "  GROUP BY carriers.Description\n",
    ") AS q2 USING(carrier)\n",
    "ORDER BY ratio DESC\")\n",
    "print(paste(q4[1, \"carrier\"], \"highest number of cancelled flights, relative to their number of total flights\"))"
   ]
  },
  {
   "cell_type": "code",
   "execution_count": 14,
   "id": "274863a9-8406-4c39-853d-7247c40f7582",
   "metadata": {},
   "outputs": [],
   "source": [
    "# ======== queries via dplyr ========\n",
    "\n",
    "planes_db <- tbl(conn, \"planes\")\n",
    "ontime_db <- tbl(conn, \"ontime\")\n",
    "carriers_db <- tbl(conn, \"carriers\")\n",
    "airports_db <- tbl(conn, \"airports\")"
   ]
  },
  {
   "cell_type": "code",
   "execution_count": 15,
   "id": "9d61084c-53a1-4c0f-a082-aee12f4d9723",
   "metadata": {},
   "outputs": [
    {
     "name": "stdout",
     "output_type": "stream",
     "text": [
      "\u001b[90m# Source:     SQL [1 x 2]\u001b[39m\n",
      "\u001b[90m# Database:   sqlite 3.41.2 [C:\\Users\\piorizzielloa\\Documents\\Data Science\\airline2.db]\u001b[39m\n",
      "\u001b[90m# Ordered by: avg_delay\u001b[39m\n",
      "  model   avg_delay\n",
      "  \u001b[3m\u001b[90m<chr>\u001b[39m\u001b[23m       \u001b[3m\u001b[90m<dbl>\u001b[39m\u001b[23m\n",
      "\u001b[90m1\u001b[39m 737-230      13.0\n"
     ]
    }
   ],
   "source": [
    "q1 <- ontime_db %>% \n",
    "  rename_all(tolower) %>%\n",
    "  inner_join(planes_db, by = \"tailnum\", suffix = c(\".ontime\", \".planes\")) %>%\n",
    "  filter(Cancelled == 0 & Diverted == 0 & DepDelay > 0) %>%\n",
    "  group_by(model) %>%\n",
    "  summarize(avg_delay = mean(DepDelay, na.rm = TRUE)) %>%\n",
    "  arrange(avg_delay) \n",
    "\n",
    "print(head(q1, 1))"
   ]
  },
  {
   "cell_type": "code",
   "execution_count": 16,
   "id": "4dd6442c-05ce-4ceb-9869-cad768898206",
   "metadata": {},
   "outputs": [
    {
     "name": "stdout",
     "output_type": "stream",
     "text": [
      "\u001b[90m# Source:     SQL [1 x 2]\u001b[39m\n",
      "\u001b[90m# Database:   sqlite 3.41.2 [C:\\Users\\piorizzielloa\\Documents\\Data Science\\airline2.db]\u001b[39m\n",
      "\u001b[90m# Ordered by: desc(total)\u001b[39m\n",
      "  city      total\n",
      "  \u001b[3m\u001b[90m<chr>\u001b[39m\u001b[23m     \u001b[3m\u001b[90m<int>\u001b[39m\u001b[23m\n",
      "\u001b[90m1\u001b[39m Chicago 1\u001b[4m0\u001b[24m\u001b[4m5\u001b[24m\u001b[4m1\u001b[24m340\n"
     ]
    }
   ],
   "source": [
    "#Use n() to Count Observations by Group\n",
    "q2 <- ontime_db %>% \n",
    "  inner_join(airports_db, by = c(\"Dest\" = \"iata\")) %>%\n",
    "  filter(Cancelled == 0) %>%\n",
    "  group_by(city) %>%\n",
    "  summarize(total = n()) %>%\n",
    "  arrange(desc(total)) \n",
    "\n",
    "print(head(q2, 1))"
   ]
  },
  {
   "cell_type": "code",
   "execution_count": 17,
   "id": "2cd929e2-2f19-4b4c-8c8d-38219c89722c",
   "metadata": {},
   "outputs": [
    {
     "name": "stdout",
     "output_type": "stream",
     "text": [
      "\u001b[90m# Source:     SQL [1 x 2]\u001b[39m\n",
      "\u001b[90m# Database:   sqlite 3.41.2 [C:\\Users\\piorizzielloa\\Documents\\Data Science\\airline2.db]\u001b[39m\n",
      "\u001b[90m# Ordered by: desc(total)\u001b[39m\n",
      "  Description            total\n",
      "  \u001b[3m\u001b[90m<chr>\u001b[39m\u001b[23m                  \u001b[3m\u001b[90m<int>\u001b[39m\u001b[23m\n",
      "\u001b[90m1\u001b[39m American Airlines Inc. \u001b[4m3\u001b[24m\u001b[4m8\u001b[24m835\n"
     ]
    }
   ],
   "source": [
    "q3 <- ontime_db %>% \n",
    "  inner_join(carriers_db, by = c(\"UniqueCarrier\" = \"Code\")) %>%\n",
    "  filter(Cancelled == 1 & Description %in% c('United Air Lines Inc.', 'American Airlines Inc.', 'Pinnacle Airlines Inc.', 'Delta Air Lines Inc.')) %>%\n",
    "  group_by(Description) %>%\n",
    "  summarize(total = n()) %>%\n",
    "  arrange(desc(total))\n",
    "\n",
    "print(head(q3, 1))\n"
   ]
  },
  {
   "cell_type": "code",
   "execution_count": 18,
   "id": "949f00d2-8508-4b30-a3fa-107c976e9b44",
   "metadata": {},
   "outputs": [],
   "source": [
    "q4a <- inner_join(ontime_db, carriers_db, by = c(\"UniqueCarrier\" = \"Code\")) %>%\n",
    "  filter(Cancelled == 1 & Description %in% c('United Air Lines Inc.', 'American Airlines Inc.', 'Pinnacle Airlines Inc.', 'Delta Air Lines Inc.')) %>%\n",
    "  group_by(Description) %>%\n",
    "  summarize(numerator = n()) %>%\n",
    "  rename(carrier = Description)\n"
   ]
  },
  {
   "cell_type": "code",
   "execution_count": 19,
   "id": "38ecc0f7-63a1-411e-86b6-ad63e67509cb",
   "metadata": {},
   "outputs": [],
   "source": [
    "q4b <- inner_join(ontime_db, carriers_db, by = c(\"UniqueCarrier\" = \"Code\")) %>%\n",
    "  filter(Description %in% c('United Air Lines Inc.', 'American Airlines Inc.', 'Pinnacle Airlines Inc.', 'Delta Air Lines Inc.')) %>%\n",
    "  group_by(Description) %>%\n",
    "  summarize(denominator = n()) %>%\n",
    "  rename(carrier = Description)"
   ]
  },
  {
   "cell_type": "code",
   "execution_count": 20,
   "id": "1f59bc24-28ac-475e-85b7-54f066e3c8b2",
   "metadata": {},
   "outputs": [
    {
     "name": "stderr",
     "output_type": "stream",
     "text": [
      "\u001b[1m\u001b[22mApplying predicate on the first 100 rows\n"
     ]
    },
    {
     "name": "stdout",
     "output_type": "stream",
     "text": [
      "\u001b[90m# Source:     SQL [1 x 2]\u001b[39m\n",
      "\u001b[90m# Database:   sqlite 3.41.2 [C:\\Users\\piorizzielloa\\Documents\\Data Science\\airline2.db]\u001b[39m\n",
      "\u001b[90m# Ordered by: desc(ratio)\u001b[39m\n",
      "  carrier                 ratio\n",
      "  \u001b[3m\u001b[90m<chr>\u001b[39m\u001b[23m                   \u001b[3m\u001b[90m<dbl>\u001b[39m\u001b[23m\n",
      "\u001b[90m1\u001b[39m Pinnacle Airlines Inc. 0.034\u001b[4m7\u001b[24m\n"
     ]
    }
   ],
   "source": [
    "# mutate_if() – alterations all variables that satisfy a specific criterion.\n",
    "# mutate() – adds new variables while retaining old variables to a data frame.\n",
    "\n",
    "q4 <- inner_join(q4a, q4b, by = \"carrier\") %>%\n",
    "  mutate_if(is.integer, as.double) %>%\n",
    "  mutate(ratio = numerator/denominator) %>%\n",
    "  select(carrier, ratio) %>%\n",
    "  arrange(desc(ratio)) \n",
    "\n",
    "print(head(q4, 1))"
   ]
  },
  {
   "cell_type": "code",
   "execution_count": 21,
   "id": "df2c52cb-9053-4b31-bbeb-d3245c277f2e",
   "metadata": {},
   "outputs": [
    {
     "name": "stdout",
     "output_type": "stream",
     "text": [
      "\u001b[90m# Source:     SQL [1 x 2]\u001b[39m\n",
      "\u001b[90m# Database:   sqlite 3.41.2 [C:\\Users\\piorizzielloa\\Documents\\Data Science\\airline2.db]\u001b[39m\n",
      "\u001b[90m# Ordered by: desc(ratio)\u001b[39m\n",
      "  carrier                 ratio\n",
      "  \u001b[3m\u001b[90m<chr>\u001b[39m\u001b[23m                   \u001b[3m\u001b[90m<dbl>\u001b[39m\u001b[23m\n",
      "\u001b[90m1\u001b[39m Pinnacle Airlines Inc. 0.034\u001b[4m7\u001b[24m\n"
     ]
    }
   ],
   "source": [
    "# part 4: A simplified solution for the query 4 in practice quiz (G to H)\n",
    "q4_simplified <- inner_join(ontime_db, carriers_db, by = c(\"UniqueCarrier\" = \"Code\")) %>%\n",
    "  filter(Description %in% c('United Air Lines Inc.', 'American Airlines Inc.', 'Pinnacle Airlines Inc.', 'Delta Air Lines Inc.')) %>%\n",
    "  rename(carrier = Description) %>%\n",
    "  group_by(carrier) %>%\n",
    "  summarise(ratio = mean(Cancelled, na.rm = TRUE)) %>%\n",
    "  arrange(desc(ratio))\n",
    "\n",
    "print(head(q4_simplified, 1))"
   ]
  },
  {
   "cell_type": "code",
   "execution_count": 23,
   "id": "96daebe0-dc54-402c-83a1-5ce0160f495c",
   "metadata": {},
   "outputs": [
    {
     "name": "stderr",
     "output_type": "stream",
     "text": [
      "Warning message in connection_release(conn@ptr):\n",
      "\"Already disconnected\"\n"
     ]
    }
   ],
   "source": [
    "dbDisconnect(conn)"
   ]
  },
  {
   "cell_type": "code",
   "execution_count": null,
   "id": "deb743b7-b8d8-4750-b569-0155371c313d",
   "metadata": {},
   "outputs": [],
   "source": []
  }
 ],
 "metadata": {
  "kernelspec": {
   "display_name": "R",
   "language": "R",
   "name": "ir"
  },
  "language_info": {
   "codemirror_mode": "r",
   "file_extension": ".r",
   "mimetype": "text/x-r-source",
   "name": "R",
   "pygments_lexer": "r",
   "version": "4.2.0"
  }
 },
 "nbformat": 4,
 "nbformat_minor": 5
}
